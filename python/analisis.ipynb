{
 "cells": [
  {
   "cell_type": "markdown",
   "id": "9083abd3-fb49-4a43-b635-293492830be9",
   "metadata": {},
   "source": [
    "# Análisis de los experimentos\n",
    "\n",
    "> En este notebook se pretenden analizar los resultados de los experimentos propuestos\n"
   ]
  },
  {
   "cell_type": "code",
   "execution_count": 16,
   "id": "4b4ca740-4176-4b2b-8507-1745c30a379b",
   "metadata": {},
   "outputs": [],
   "source": [
    "import matplotlib.pyplot as plt\n",
    "import numpy as np\n",
    "import pandas as pd\n",
    "from pathlib import Path\n",
    "import seaborn as sns\n",
    "\n",
    "import os\n",
    "import shutil\n",
    "import random, math"
   ]
  },
  {
   "cell_type": "markdown",
   "id": "380e5ab0-2254-4e24-928f-d224703e5998",
   "metadata": {},
   "source": [
    "## Funciones útiles"
   ]
  },
  {
   "cell_type": "code",
   "execution_count": 17,
   "id": "08b5cc15",
   "metadata": {},
   "outputs": [],
   "source": [
    "# Creación de una carpeta\n",
    "\n",
    "def crear_carpeta(dir):\n",
    "    if os.path.exists(dir) : shutil.rmtree(dir)\n",
    "    os.makedirs(dir)"
   ]
  },
  {
   "cell_type": "code",
   "execution_count": 18,
   "id": "98cdfb0b-b0d4-4832-b256-cff0b75788b8",
   "metadata": {},
   "outputs": [],
   "source": [
    "# Armamos el horno basandonos en el experimento del que se trata, su valor n y su valor m\n",
    "\n",
    "def armar_horno(exp,m,n):\n",
    "    valores = []\n",
    "    \n",
    "    with open(F\"resultados/EXP{exp}/D{exp}_{m}_{n}-resultado.out\", \"r\") as f:\n",
    "        for linea in f:\n",
    "            valores.append(float(linea))\n",
    "    \n",
    "    horno = np.array(valores).reshape(m,n).T\n",
    "    return horno"
   ]
  },
  {
   "cell_type": "code",
   "execution_count": 19,
   "id": "bbad4128-9b6c-42d4-9a12-12e3107c285b",
   "metadata": {},
   "outputs": [],
   "source": [
    "# Dado las temperaturas de un horno, calcula las posiciones en los radios en los que \n",
    "# se encuentra la isoterma buscada.\n",
    "def calcular_isoterma(horno):\n",
    "    # Datos\n",
    "    isoterma = 500\n",
    "    pos_isoterma = []\n",
    "    n = len(horno)\n",
    "    m = len(horno[0])\n",
    "    temp_ext = horno[0][0]\n",
    "    temp_int = horno[0][-1]\n",
    "    # Si la isoterma buscada es mayor que la temperatura exterior/menor que la interior\n",
    "    # consideramos que no hay isoterma\n",
    "    if (temp_int > temp_ext and (isoterma > temp_int or temp_ext > isoterma)):\n",
    "        pos_isoterma.append(-1)\n",
    "    elif (temp_int < temp_ext and (isoterma < temp_int or temp_ext < isoterma)):\n",
    "        pos_isoterma.append(-1)\n",
    "    else:\n",
    "        for i in range(0,n):\n",
    "            radio_j = -1\n",
    "            diferencia = abs(horno[0][0] - horno[0][m-1])\n",
    "            for j in range(0,m):\n",
    "                if (abs(isoterma - horno[i][j] < diferencia)):\n",
    "                    diferencia = abs(isoterma - horno[i][j])\n",
    "                    radio_j = j\n",
    "            pos_isoterma.append(radio_j)       \n",
    "    return pos_isoterma"
   ]
  },
  {
   "cell_type": "code",
   "execution_count": 20,
   "id": "aa3386c9",
   "metadata": {},
   "outputs": [],
   "source": [
    "# Calculamos la diferencia entre las isotermas de hornos \n",
    "def calcular_diferencias(isotermas_n, r_i, r_e, ms):\n",
    "    \n",
    "    d_rs = []\n",
    "    \n",
    "    for i in range(len(ms)):\n",
    "        d_rs.append((r_e - r_i)/ms[i])\n",
    "    \n",
    "    normas = []\n",
    "    diferencias = []\n",
    "    \n",
    "    for j in range(len(isotermas_n)):\n",
    "        radios = []\n",
    "        for i in range(40):\n",
    "            radios.append(r_i + isotermas_n[j][i]* d_rs[j])\n",
    "        norma = np.linalg.norm(radios)\n",
    "        normas.append(norma)\n",
    "    \n",
    "    for i in range(len(normas)):\n",
    "        diferencia = abs(normas[i-1]-normas[i])\n",
    "        diferencias.append(diferencia)\n",
    "        \n",
    "    return diferencias"
   ]
  },
  {
   "cell_type": "markdown",
   "id": "2306af1e-5194-48a7-b0f8-d286c6fb9336",
   "metadata": {},
   "source": [
    "## Funciones para graficar"
   ]
  },
  {
   "cell_type": "code",
   "execution_count": 21,
   "id": "b7709757-5d27-42f5-b91e-4afcfc9f09b3",
   "metadata": {},
   "outputs": [],
   "source": [
    "# Grafica la isoterma de un horno\n",
    "def grafico_isoterma(exp,horno,m,n):\n",
    "    # Datos y parámetros\n",
    "    cantidad_radios   = m\n",
    "    cantidad_angulos  = n\n",
    "    r = calcular_isoterma(horno)\n",
    "    theta = np.linspace(0, 2*np.pi, cantidad_angulos)\n",
    "    # Gráfico\n",
    "    fig, ax = plt.subplots(subplot_kw={'projection': 'polar'})\n",
    "    ax.plot(theta, r)\n",
    "    ax.set_rticks([x*0.1*m for x in range(1,11)])\n",
    "    ax.grid(True)\n",
    "    ax.set_title(\"Isoterma\")\n",
    "    #plt.show()"
   ]
  },
  {
   "cell_type": "code",
   "execution_count": 22,
   "id": "46f5a080-01cf-4ca8-91ef-e226c8b4592f",
   "metadata": {},
   "outputs": [],
   "source": [
    "# Arma el gráfico de calor para un horno \n",
    "def grafico_calor(exp, horno):\n",
    "    # Datos y parámetros\n",
    "    cantidad_angulos = len(horno)\n",
    "    cantidad_radios  = len(horno[0])\n",
    "    r = np.tile(np.linspace(0, 1, cantidad_radios), (cantidad_angulos, 1))\n",
    "    theta = np.tile(np.linspace(0, 2*np.pi, cantidad_angulos), (cantidad_radios, 1)).transpose()\n",
    "    z = horno\n",
    "    # Gráfico\n",
    "    fig, ax = plt.subplots(subplot_kw={'projection': 'polar'})\n",
    "    grafico = ax.pcolor(theta, r, z, cmap='jet')\n",
    "    ax.pcolor(theta, r, z, cmap='jet')\n",
    "    ax.set_yticklabels([])\n",
    "    fig.colorbar(grafico)\n",
    "    plt.savefig(F\"graficos/EXP{exp}/D{exp}_{cantidad_radios}_{cantidad_angulos}_calor.svg\")"
   ]
  },
  {
   "cell_type": "markdown",
   "id": "945980a7-f5e7-4798-8101-b3796ad095c4",
   "metadata": {},
   "source": [
    "## Preparación"
   ]
  },
  {
   "cell_type": "code",
   "execution_count": 38,
   "id": "0d65100a-c66a-4a75-a315-45d7b74d47e9",
   "metadata": {},
   "outputs": [],
   "source": [
    "resultados_d1 = pd.read_csv(\"resultados/EXP1/resultado.csv\")\n",
    "resultados_d2 = pd.read_csv(\"resultados/EXP2/resultado.csv\")"
   ]
  },
  {
   "cell_type": "code",
   "execution_count": 39,
   "id": "d8e1b1bc",
   "metadata": {},
   "outputs": [],
   "source": [
    "crear_carpeta(\"graficos/EXP1\")\n",
    "crear_carpeta(\"graficos/EXP2\")\n",
    "crear_carpeta(\"graficos/EXP3A\")\n",
    "crear_carpeta(\"graficos/EXP3B\")"
   ]
  },
  {
   "cell_type": "markdown",
   "id": "6d4b1ad6",
   "metadata": {},
   "source": [
    "## Análisis de Experimento 1"
   ]
  },
  {
   "cell_type": "code",
   "execution_count": null,
   "id": "9722f335-2024-4b92-bc8e-6a483b3abc50",
   "metadata": {},
   "outputs": [],
   "source": [
    "# Tomamos una serie de hornos, y realizamos su gráfico de calor\n",
    "d_m = 2\n",
    "n = 40\n",
    "m = 40\n",
    "hornos = []\n",
    "\n",
    "for j in range(4,m+1,d_m):\n",
    "    hornos.append(armar_horno(1,j,n))\n",
    "    \n",
    "for i in range(len(hornos)):\n",
    "    grafico_calor(1,hornos[i])"
   ]
  },
  {
   "cell_type": "code",
   "execution_count": null,
   "id": "bd4fcb25",
   "metadata": {},
   "outputs": [],
   "source": [
    "# Analizamos las diferencias de isoterma con los hornos de n=40\n",
    "d_m = 2\n",
    "m_i = 4\n",
    "m = 40\n",
    "n = 40\n",
    "hornos = []\n",
    "\n",
    "for j in range(4,m+1,d_m):\n",
    "    hornos.append(armar_horno(1,j,n))\n",
    "    \n",
    "isotermas = []   \n",
    "for horno in hornos:\n",
    "    isotermas.append(calcular_isoterma(horno))\n",
    "    \n",
    "ms = []\n",
    "for horno in hornos:\n",
    "    ms.append(len(horno[0]))\n",
    "    \n",
    "diferencias = calcular_diferencias(isotermas, resultados_d1['Radio interno'], resultados_d1['Radio externo'], ms)\n",
    "\n",
    "\n",
    "print(diferencias)"
   ]
  },
  {
   "cell_type": "code",
   "execution_count": null,
   "id": "355029bf-6f27-4ac6-a1b5-ce5a87aa3473",
   "metadata": {},
   "outputs": [],
   "source": [
    "ys = [i for i in range(4,41,2)]\n",
    "plt.plot(ys, diferencias)\n",
    "plt.xlabel(\"Valor de m (radios)\")\n",
    "plt.ylabel(\"Diferencia en cm\")\n",
    "plt.grid(True)\n",
    "plt.savefig(F\"graficos/EXP1/grafico_diferencias.png\")"
   ]
  },
  {
   "cell_type": "markdown",
   "id": "88fcd54d",
   "metadata": {},
   "source": [
    "## Análisis de Experimento 2\n"
   ]
  },
  {
   "cell_type": "code",
   "execution_count": 52,
   "id": "f86f3d6e",
   "metadata": {},
   "outputs": [],
   "source": [
    " D2_tiempos = resultados_d2.copy()"
   ]
  },
  {
   "cell_type": "code",
   "execution_count": null,
   "id": "2ccce469",
   "metadata": {
    "scrolled": true
   },
   "outputs": [],
   "source": [
    "#Gráfico Gauss y LU\n",
    "met_dic = ['Gauss']*30 + ['LU']*30\n",
    "fig, ax = plt.subplots()\n",
    "\n",
    "ax.errorbar(data=D2_tiempos[D2_tiempos['Método'] == 0], x='Número de instancia', y='Media', yerr='Desvio', marker =\"o\",capsize=3, capthick=1, alpha=.75, label=\"Gauss\", linestyle=\"none\")\n",
    "ax.errorbar(data=D2_tiempos[D2_tiempos['Método'] == 1], x='Número de instancia', y='Media', yerr='Desvio', marker =\"o\",capsize=3, capthick=1, alpha=.75, label=\"LU\", linestyle=\"none\")\n",
    "\n",
    "\n",
    "ax.set(xlabel=\"Número de Instancia del Horno\", ylabel=\"Tiempo (ms)\")\n",
    "ax.grid(True)\n",
    "plt.legend()\n",
    "plt.savefig(F\"graficos/EXP2/tiempos_gauss_lu.png\")"
   ]
  },
  {
   "cell_type": "code",
   "execution_count": null,
   "id": "0575c19a",
   "metadata": {},
   "outputs": [],
   "source": [
    "#Gráfico solo Gauss\n",
    "fig, ax = plt.subplots()\n",
    "\n",
    "ax.errorbar(data=D2_tiempos[D2_tiempos['Método'] == 0], x='Número de instancia', y='Media', yerr='Desvio', marker =\"o\",capsize=3, capthick=1, alpha=.75, linestyle=\"none\")\n",
    "\n",
    "ax.set(xlabel=\"Número de Instancia del Horno\", ylabel=\"Tiempo (ms)\")\n",
    "ax.grid(True)\n",
    "\n",
    "plt.savefig(F\"graficos/EXP2/tiempos_gauss.png\")"
   ]
  },
  {
   "cell_type": "code",
   "execution_count": null,
   "id": "823c19c2",
   "metadata": {},
   "outputs": [],
   "source": [
    "#Gráfico de tiempo de LU\n",
    "fig, ax = plt.subplots()\n",
    "\n",
    "ax.errorbar(data=D2_tiempos[D2_tiempos['Método'] == 1], x='Número de instancia', y='Media', yerr='Desvio', marker =\"o\",capsize=3, capthick=1, alpha=.75, linestyle=\"none\")\n",
    "\n",
    "ax.set(xlabel=\"Número de Instancia del Horno\", ylabel=\"Tiempo (ms)\")\n",
    "ax.grid(True)\n",
    "\n",
    "plt.savefig(F\"graficos/EXP2/tiempos_lu.png\")"
   ]
  },
  {
   "cell_type": "code",
   "execution_count": null,
   "id": "665d2a6f",
   "metadata": {},
   "outputs": [],
   "source": [
    "#Gráfico Acercamiento LU\n",
    "fig, ax = plt.subplots()\n",
    "\n",
    "ax.errorbar(data=D2_tiempos[(resultados_d2['Método'] == 1) & (resultados_d2['Número de instancia'] != 1)], x='Número de instancia', y='Media', yerr='Desvio', marker =\"o\",capsize=3, capthick=1, alpha=.75, linestyle=\"none\")\n",
    "\n",
    "ax.set(xlabel=\"Número de Instancia del Horno\", ylabel=\"Tiempo (ms)\")\n",
    "ax.grid(True)\n",
    "\n",
    "plt.savefig(F\"graficos/EXP2/tiempos_lu_acercado.png\")"
   ]
  },
  {
   "cell_type": "markdown",
   "id": "86b838ca",
   "metadata": {},
   "source": [
    "## Análisis de Experimento 3A"
   ]
  },
  {
   "cell_type": "code",
   "execution_count": 51,
   "id": "f173276f",
   "metadata": {},
   "outputs": [],
   "source": [
    "# Dado un archivo con resultados, calcula el horno que está desde la posición i hasta j\n",
    "def conseguir_n_horno(array,i,j):\n",
    "    horno = []\n",
    "    for k in range(i,j):\n",
    "        horno.append(array[k])\n",
    "    return horno    "
   ]
  },
  {
   "cell_type": "code",
   "execution_count": 12,
   "id": "991df2a2",
   "metadata": {},
   "outputs": [],
   "source": [
    "# Armado de los hornos\n",
    "resultado = []\n",
    "\n",
    "with open(F\"resultados/EXP3A/D3_30_40-resultado.out\", \"r\") as f:\n",
    "    for linea in f:\n",
    "        resultado.append(float(linea))\n",
    "        \n",
    "ninst = len(resultado)//(40*30)\n",
    "\n",
    "hornos = []    \n",
    "for k in range(0,ninst):\n",
    "    horno= []\n",
    "    horno = conseguir_n_horno(resultado,30*40*k, 30*40*(k+1))\n",
    "    hornos.append(np.array(horno).reshape(30,40).T)"
   ]
  },
  {
   "cell_type": "code",
   "execution_count": null,
   "id": "fc2d24ed-66cb-47f8-ae6a-1d2ef8f57eac",
   "metadata": {},
   "outputs": [],
   "source": [
    "def grafico_calor_d3(exp, horno, k):\n",
    "    # Datos y parámetros\n",
    "    cantidad_angulos = len(horno)\n",
    "    cantidad_radios  = len(horno[0])\n",
    "    r = np.tile(np.linspace(0, 1, cantidad_radios), (cantidad_angulos, 1))\n",
    "    r[-1] = r[0]\n",
    "    theta = np.tile(np.linspace(0, 2*np.pi, cantidad_angulos), (cantidad_radios, 1)).transpose()\n",
    "    z = horno\n",
    "    # Gráfico\n",
    "    fig, ax = plt.subplots(subplot_kw={'projection': 'polar'})\n",
    "    grafico = ax.pcolor(theta, r, z, cmap='jet')\n",
    "    ax.pcolor(theta, r, z, cmap='jet')\n",
    "    ax.set_yticklabels([])\n",
    "    fig.colorbar(grafico)\n",
    "    plt.savefig(F\"graficos/EXP{exp}A/D3_{cantidad_radios}_{cantidad_angulos}_{k}_calor.png\")\n",
    "\n",
    "\n",
    "for i in range(0,len(hornos)):\n",
    "    grafico_calor_d3(3, hornos[i],i)"
   ]
  },
  {
   "cell_type": "code",
   "execution_count": null,
   "id": "ac05f020-9c5b-4bc9-a039-8eaeade26562",
   "metadata": {},
   "outputs": [],
   "source": [
    "# Grafica la isoterma de un horno\n",
    "def grafico_isoterma_d3(exp,horno,k):\n",
    "    # Datos y parámetros\n",
    "    cantidad_angulos = len(horno)\n",
    "    cantidad_radios  = len(horno[0])\n",
    "    r = calcular_isoterma(horno)\n",
    "    r[-1] = r[0]\n",
    "    theta = np.linspace(0, 2*np.pi, cantidad_angulos)\n",
    "    # Gráfico\n",
    "    fig, ax = plt.subplots(subplot_kw={'projection': 'polar'})\n",
    "    ax.plot(theta, r)\n",
    "    ax.set_rticks([x*0.1*cantidad_radios for x in range(1,11)])\n",
    "    ax.grid(True)\n",
    "    plt.savefig(F\"graficos/EXP{exp}A/D3_{cantidad_radios}_{cantidad_angulos}_{k}_isoterma.png\")\n",
    "\n",
    "for i in range(0,len(hornos)):\n",
    "    grafico_isoterma_d3(3, hornos[i],i)"
   ]
  },
  {
   "cell_type": "markdown",
   "id": "4098b274-3dc2-48e3-a72d-93359807c4e8",
   "metadata": {},
   "source": [
    "## Análisis de Experimento 3B"
   ]
  },
  {
   "cell_type": "code",
   "execution_count": null,
   "id": "f5a93759-177a-4157-a2df-527af2c35bca",
   "metadata": {},
   "outputs": [],
   "source": [
    "# Armado de los hornos\n",
    "resultado = []\n",
    "\n",
    "with open(F\"resultados/EXP3B/D4_30_40-resultado.out\", \"r\") as f:\n",
    "    for linea in f:\n",
    "        resultado.append(float(linea))\n",
    "        \n",
    "ninst = len(resultado)//(40*30)\n",
    "\n",
    "hornos = []    \n",
    "for k in range(0,ninst):\n",
    "    horno= []\n",
    "    horno = conseguir_n_horno(resultado,30*40*k, 30*40*(k+1))\n",
    "    hornos.append(np.array(horno).reshape(30,40).T)"
   ]
  },
  {
   "cell_type": "code",
   "execution_count": null,
   "id": "0f670440-d2fe-4e5a-9aca-0ebef859628b",
   "metadata": {},
   "outputs": [],
   "source": [
    "def grafico_calor_d3(exp, horno, k):\n",
    "    # Datos y parámetros\n",
    "    cantidad_angulos = len(horno)\n",
    "    cantidad_radios  = len(horno[0])\n",
    "    r = np.tile(np.linspace(0, 1, cantidad_radios), (cantidad_angulos, 1))\n",
    "    r[-1] = r[0]\n",
    "    theta = np.tile(np.linspace(0, 2*np.pi, cantidad_angulos), (cantidad_radios, 1)).transpose()\n",
    "    z = horno\n",
    "    # Gráfico\n",
    "    fig, ax = plt.subplots(subplot_kw={'projection': 'polar'})\n",
    "    grafico = ax.pcolor(theta, r, z, cmap='jet')\n",
    "    ax.pcolor(theta, r, z, cmap='jet')\n",
    "    ax.set_yticklabels([])\n",
    "    fig.colorbar(grafico)\n",
    "    plt.savefig(F\"graficos/EXP{exp}B/D4_{cantidad_radios}_{cantidad_angulos}_{k}_calor.png\")\n",
    "\n",
    "\n",
    "for i in range(0,len(hornos)):\n",
    "    grafico_calor_d3(3, hornos[i],i)"
   ]
  },
  {
   "cell_type": "code",
   "execution_count": null,
   "id": "740a6b57-efc4-4948-8638-db11bbe5a2d5",
   "metadata": {},
   "outputs": [],
   "source": [
    "def isoterma_s_fallados(horno):\n",
    "    # Datos\n",
    "    isoterma = 1000\n",
    "    pos_isoterma = []\n",
    "    n = len(horno)\n",
    "    m = len(horno[0])\n",
    "    temp_ext = horno[0][0]\n",
    "    temp_int = horno[0][-1]\n",
    "    for i in range(0,n):\n",
    "        radio_j = -1\n",
    "        diferencia = abs(horno[0][0] - horno[0][m-1])\n",
    "        for j in range(0,m):\n",
    "            if (abs(isoterma - horno[i][j] < diferencia)):\n",
    "                diferencia = abs(isoterma - horno[i][j])\n",
    "                radio_j = j\n",
    "        pos_isoterma.append(radio_j)       \n",
    "    return pos_isoterma"
   ]
  },
  {
   "cell_type": "code",
   "execution_count": null,
   "id": "14ab2448-4314-4f41-8bff-2fa309ec19fd",
   "metadata": {},
   "outputs": [],
   "source": [
    "# Grafica la isoterma de un horno\n",
    "def grafico_isoterma_d3(exp,horno,k):\n",
    "    # Datos y parámetros\n",
    "    cantidad_angulos = len(horno)\n",
    "    cantidad_radios  = len(horno[0])\n",
    "    r = isoterma_s_fallados(horno)\n",
    "    r[-1] = r[0]\n",
    "    theta = np.linspace(0, 2*np.pi, cantidad_angulos)\n",
    "    # Gráfico\n",
    "    fig, ax = plt.subplots(subplot_kw={'projection': 'polar'})\n",
    "    ax.plot(theta, r)\n",
    "    ax.set_rticks([x*0.1*cantidad_radios for x in range(1,11)])\n",
    "    ax.grid(True)\n",
    "    plt.savefig(F\"graficos/EXP{exp}B/D4_{cantidad_radios}_{cantidad_angulos}_{k}_isoterma.png\")\n",
    "\n",
    "for i in range(0,len(hornos)):\n",
    "    grafico_isoterma_d3(3, hornos[i],i)"
   ]
  }
 ],
 "metadata": {
  "kernelspec": {
   "display_name": "Python 3 (ipykernel)",
   "language": "python",
   "name": "python3"
  },
  "language_info": {
   "codemirror_mode": {
    "name": "ipython",
    "version": 3
   },
   "file_extension": ".py",
   "mimetype": "text/x-python",
   "name": "python",
   "nbconvert_exporter": "python",
   "pygments_lexer": "ipython3",
   "version": "3.8.10"
  }
 },
 "nbformat": 4,
 "nbformat_minor": 5
}
