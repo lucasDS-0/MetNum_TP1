{
 "cells": [
  {
   "cell_type": "markdown",
   "id": "20cac546",
   "metadata": {},
   "source": [
    "# Experimentos\n",
    "\n",
    "En este archivo está el código para correr los experimentos y guardar los resultados en la carpeta /resultados como archivos.txt\n",
    "- Adicionalmente, se utilizaran archivos .csv para tener un censo de los tiempos de ejecución de cada algoritmo y experimento, junto con información útil "
   ]
  },
  {
   "cell_type": "code",
   "execution_count": 1,
   "id": "0035c8fb",
   "metadata": {},
   "outputs": [],
   "source": [
    "import math, subprocess\n",
    "import numpy as np\n",
    "import pandas as pd\n",
    "\n",
    "import os\n",
    "import shutil\n",
    "from IPython.display import display, clear_output"
   ]
  },
  {
   "cell_type": "markdown",
   "id": "4402da11-35b9-4f9b-95b0-d3d7517d54a7",
   "metadata": {},
   "source": [
    "Funciones útiles para los experimentos"
   ]
  },
  {
   "cell_type": "code",
   "execution_count": 2,
   "id": "b9c08331-64ed-4b1b-8c11-1c94b281b192",
   "metadata": {},
   "outputs": [],
   "source": [
    "# Creación de la carpeta resultados\n",
    "\n",
    "def crear_carpeta(dir):\n",
    "    if os.path.exists(dir) : shutil.rmtree(dir)\n",
    "    os.makedirs(dir)"
   ]
  },
  {
   "cell_type": "markdown",
   "id": "a35878b4-2af4-405a-86b3-285dd1feab7b",
   "metadata": {},
   "source": [
    "A continuación leemos los datasets en dataframes de Pandas"
   ]
  },
  {
   "cell_type": "code",
   "execution_count": 10,
   "id": "2cb89735-7763-49ba-b724-ca13b82d6be3",
   "metadata": {},
   "outputs": [],
   "source": [
    "p_ext_alta_temperatura     = pd.read_csv(\"instancias/D1/indice.csv\")\n",
    "temperatura_cambiante      = pd.read_csv(\"instancias/D2/indice.csv\")\n",
    "refrigeracion_no_funcional = pd.read_csv(\"instancias/D3/indice.csv\")\n",
    "sensores_fallados          = pd.read_csv(\"instancias/D4/indice.csv\")"
   ]
  },
  {
   "cell_type": "markdown",
   "id": "f089d952-5e71-47de-82a0-f568a6bae77f",
   "metadata": {},
   "source": [
    "La siguiente función sirve para correr el código sobre una instancia ejecutando un método en particular\n",
    "\n",
    "- 0 : Gauss\n",
    "- 1 : LU\n"
   ]
  },
  {
   "cell_type": "code",
   "execution_count": 11,
   "id": "cb9a53cc-c20c-42e9-85c4-0eaa51244e5f",
   "metadata": {},
   "outputs": [],
   "source": [
    "def ejecutar_algoritmo(archivo_entrada, archivo_salida, metodo):\n",
    "    # Crear proceso para ejecutar el codigo. \n",
    "    process = subprocess.run([\"../src/ejecutable\", archivo_entrada, archivo_salida, metodo], stderr=subprocess.PIPE, stdout=subprocess.PIPE, universal_newlines = True, encoding=\"ascii\")"
   ]
  },
  {
   "cell_type": "code",
   "execution_count": 13,
   "id": "e0feb9e9",
   "metadata": {},
   "outputs": [],
   "source": [
    "# Instancias, métodos y experimentos\n",
    "instancias = [\"D1\", \"D2\", \"D3\", \"D4\"]\n",
    "metodos = [\"Gauss\", \"LU\"]\n",
    "experimentos = [\"EXP1\", \"EXP2\", \"EXP3A\", \"EXP3B\"]"
   ]
  },
  {
   "cell_type": "code",
   "execution_count": 14,
   "id": "8d6957d4",
   "metadata": {},
   "outputs": [],
   "source": [
    "# Creación de las carpetas de resultados\n",
    "# También sirve para \"resetear\" las corridas.\n",
    "\n",
    "for exp in experimentos:\n",
    "    dir = F'resultados/{exp}'\n",
    "    crear_carpeta(dir)\n"
   ]
  },
  {
   "cell_type": "markdown",
   "id": "f7a51abd",
   "metadata": {},
   "source": [
    "## Ejecución de los algoritmos"
   ]
  },
  {
   "cell_type": "code",
   "execution_count": 7,
   "id": "28b7310e-445d-481c-b504-d15f2c8dbde0",
   "metadata": {},
   "outputs": [],
   "source": [
    "def aplicar_metodo(archivo_entrada, archivo_salida, metodo):\n",
    "    process = subprocess.run([\"../src/ejecutable\", archivo_entrada, archivo_salida, metodo], stderr=subprocess.PIPE, stdout=subprocess.PIPE, universal_newlines = True, encoding=\"ascii\")\n",
    "    result = process.stderr.split('\\n')\n",
    "    result.pop()\n",
    "    result = [float(x) for x in result]\n",
    "    return result"
   ]
  },
  {
   "cell_type": "markdown",
   "id": "6a7d6b75-a5fb-470d-a83d-cfc2d94ee297",
   "metadata": {},
   "source": [
    "## Experimento 1 - Prueba de modelo\n",
    "\n",
    "En este experimento se pretende encontrar un balance entre la cantidad de ángulos y radios, y los tiempos de cómputo de los algoritmos para poder distinguir la ubicación de la isoterma de forma nítida. \n",
    "> Este experimento utilizará el `Dataset 1 : Pared exterior de alta temperatura`"
   ]
  },
  {
   "cell_type": "code",
   "execution_count": 16,
   "id": "33d8355c-6123-4f7f-b850-6cf3c070e699",
   "metadata": {},
   "outputs": [],
   "source": [
    "experimento = []\n",
    "\n",
    "for i in range(0,len(p_ext_alta_temperatura)):\n",
    "    fila_i = p_ext_alta_temperatura.iloc[i]\n",
    "    experimento.append([fila_i[\"Dataset\"], fila_i[\"Nombre de instancia\"], fila_i[\"m+1\"], fila_i[\"n\"], fila_i[\"Archivo\"], fila_i[\"Radio interno\"], fila_i[\"Radio externo\"]])"
   ]
  },
  {
   "cell_type": "code",
   "execution_count": null,
   "id": "0594cdad-816f-42d8-a648-cae24919ca2b",
   "metadata": {},
   "outputs": [],
   "source": [
    "columnas = [\"Dataset\", \"Nombre de instancia\", \"m+1\", \"Media\", \"Desvio\", \"Radio interno\", \"Radio externo\"]\n",
    "filas = []\n",
    "\n",
    "T = 5 # Numero de veces que se ejecuta cada experimento (para mayor fidelidad del tiempo).\n",
    "# Ejecutamos el experimento T veces y obtenemos la mediana.\n",
    "\n",
    "numero = 1\n",
    "for inst in experimento:\n",
    "    clear_output(wait=True)\n",
    "    tiempos = []\n",
    "    for i in range(0,T):\n",
    "        tiempos.append(aplicar_metodo(inst[4],F\"resultados/EXP1/{inst[1]}-resultado.out\", F\"0\"))\n",
    "    media = np.median(tiempos, axis = 0)\n",
    "    desvio = np.std(tiempos, axis = 0)\n",
    "    filas.append([inst[0], inst[1], inst[2], inst[3], media[0], desvio[0], ])\n",
    "    display('Experimento: ' + str(numero) + \"/\" + str(len(experimento)))\n",
    "    display(inst[0] + \"/\" + inst[1])\n",
    "    numero = numero + 1\n",
    "    \n",
    "df_resultado = pd.DataFrame(filas, columns=columnas);    \n",
    "df_resultado.to_csv(\"resultados/EXP1/resultado.csv\", index=False, header=True);"
   ]
  },
  {
   "cell_type": "markdown",
   "id": "4d7981b0-8e9d-49a6-833e-690a9db6e525",
   "metadata": {},
   "source": [
    "## Experimento 2 - Prueba de cómputo\n",
    "\n",
    "Una vez encontrada una discretización apropiada por el `Experimento 1 - Prueba de modelo`, se utilizará la misma para comparar los tiempos de cómputo entre la `Eliminación Gaussiana` y la `Factorización LU`, donde se tiene que utilizar un mismo sistema repetidas veces. (Este experimento hará uso de un dataset que considera el error posible al momento de sensar las temperaturas del horno).\n",
    "> Este experimento utilizará el `Dataset 2 : Temperaturas que cambian con el tiempo`"
   ]
  },
  {
   "cell_type": "code",
   "execution_count": 8,
   "id": "507b70be-54dd-469e-90cd-0db81f5cd452",
   "metadata": {},
   "outputs": [],
   "source": [
    "fila_n = temperatura_cambiante.iloc[-1]\n",
    "experimento = [fila_n[\"Dataset\"], fila_n[\"Nombre de instancia\"], fila_n[\"Número de instancia\"], fila_n[\"Archivo\"]]"
   ]
  },
  {
   "cell_type": "code",
   "execution_count": 10,
   "id": "d7693663-770e-4cc9-b416-ce1293d6c767",
   "metadata": {},
   "outputs": [],
   "source": [
    "columnas = [\"Dataset\", \"Número de instancia\", \"Método\", \"Media\", \"Desvio\"]\n",
    "filas = []\n",
    "\n",
    "T = 5 # Numero de veces que se ejecuta cada experimento (para mayor fidelidad del tiempo).\n",
    "# Ejecutamos el experimento T veces y obtenemos la mediana.\n",
    "tiempos = []\n",
    "for i in range(0,T):\n",
    "    tiempos.append(aplicar_metodo(experimento[3],F\"resultados/EXP2/{experimento[1]}-resultado.out\", F\"0\"))\n",
    "media = np.median(tiempos, axis = 0)\n",
    "desvio = np.std(tiempos, axis = 0)\n",
    "for j in range(0, len(media)):\n",
    "    filas.append([experimento[0],j+1, F\"0\", media[j], desvio[j]])\n",
    "\n",
    "tiempos = []\n",
    "for i in range(0,T):\n",
    "    tiempos.append(aplicar_metodo(experimento[3],F\"resultados/EXP2/{experimento[1]}-resultado.out\", F\"1\"))\n",
    "media = np.median(tiempos, axis = 0)\n",
    "desvio = np.std(tiempos, axis = 0)\n",
    "for j in range(0, len(media)):\n",
    "    filas.append([experimento[0],j+1, F\"1\", media[j], desvio[j]])\n",
    "    \n",
    "df_resultado = pd.DataFrame(filas, columns=columnas);    \n",
    "df_resultado.to_csv(\"resultados/EXP2/resultado.csv\", index=False, header=True);"
   ]
  },
  {
   "cell_type": "markdown",
   "id": "14a80789-ec29-4969-a6b7-55230e4224b6",
   "metadata": {},
   "source": [
    "## Experimento 3A - Prueba de riesgo\n",
    "\n",
    "Utilizando los hallazgos del `Experimento 1 - Prueba de modelo` y `Experimento 2 - Prueba de cómputo`, se quiere simular un escenario donde una porción del sistema de refrigeración del horno no funciona como se debe, de forma que mitad del horno incrementa su temperatura a través del tiempo, potencialmente generando una situación de riesgo. Con esto se pretende ver como la isoterma se va deformando a medida que este escenario progresa.\n",
    "> Este experimento utilizará el `Dataset 3 : Horno con sistema de refrigeración no funcional`"
   ]
  },
  {
   "cell_type": "code",
   "execution_count": 34,
   "id": "3376ff72-c4e3-4439-8278-e5025c6532ea",
   "metadata": {},
   "outputs": [],
   "source": [
    "fila_n = refrigeracion_no_funcional.iloc[-1]\n",
    "experimento = [fila_n[\"Dataset\"], fila_n[\"Nombre de instancia\"], fila_n[\"Número de instancia\"], fila_n[\"Archivo\"]]"
   ]
  },
  {
   "cell_type": "code",
   "execution_count": 35,
   "id": "0628f023-95ea-438f-93bc-2ed601dd9278",
   "metadata": {},
   "outputs": [],
   "source": [
    "ejecutar_algoritmo(experimento[3],F\"resultados/EXP3A/{experimento[1]}-resultado.out\", F\"1\")"
   ]
  },
  {
   "cell_type": "markdown",
   "id": "53469837-0a9c-4c7d-bace-3cfd128bffc9",
   "metadata": {},
   "source": [
    "## Experimento 3B - Prueba de sensado\n",
    "\n",
    "Utilizando los hallazgos del `Experimento 1 - Prueba de modelo` y `Experimento 2 - Prueba de cómputo`, se quiere simular un escenario donde un conjunto de los sensores son defectuosos y no miden los valores adecuados. Con esto se pretende ver como la isoterma se va deformando en dichos sensores con cada instancia.\n",
    "> Este experimento utilizará el `Dataset 4 : Horno con sensores fallados`"
   ]
  },
  {
   "cell_type": "code",
   "execution_count": null,
   "id": "606f30ae-b228-4860-8e55-07277f66a1a3",
   "metadata": {},
   "outputs": [],
   "source": [
    "fila_n = sensores_fallados.iloc[-1]\n",
    "experimento = [fila_n[\"Dataset\"], fila_n[\"Nombre de instancia\"], fila_n[\"Número de instancia\"], fila_n[\"Archivo\"]]"
   ]
  },
  {
   "cell_type": "code",
   "execution_count": null,
   "id": "69285b98-9b92-48fe-933c-cc9e564d769f",
   "metadata": {},
   "outputs": [],
   "source": [
    "ejecutar_algoritmo(experimento[3],F\"resultados/EXP3B/{experimento[1]}-resultado.out\", F\"1\")"
   ]
  }
 ],
 "metadata": {
  "kernelspec": {
   "display_name": "Python 3 (ipykernel)",
   "language": "python",
   "name": "python3"
  },
  "language_info": {
   "codemirror_mode": {
    "name": "ipython",
    "version": 3
   },
   "file_extension": ".py",
   "mimetype": "text/x-python",
   "name": "python",
   "nbconvert_exporter": "python",
   "pygments_lexer": "ipython3",
   "version": "3.8.10"
  }
 },
 "nbformat": 4,
 "nbformat_minor": 5
}
