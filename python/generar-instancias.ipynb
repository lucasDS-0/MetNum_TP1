{
 "cells": [
  {
   "cell_type": "markdown",
   "id": "b2961718",
   "metadata": {},
   "source": [
    "# Generación de instancias \n",
    "\n",
    "En este notebook generaremos los sets de instancias que usaremos para experimentar.\n",
    "\n",
    "- Estas instancias van a ser guardadas en la carpeta __instancias__."
   ]
  },
  {
   "cell_type": "code",
   "execution_count": 1,
   "id": "3d6368f2",
   "metadata": {},
   "outputs": [],
   "source": [
    "import os\n",
    "import shutil\n",
    "import random, math, subprocess\n",
    "import pandas as pd"
   ]
  },
  {
   "cell_type": "markdown",
   "id": "467f02e3",
   "metadata": {},
   "source": [
    "Funciones útiles para guardar las instancias:"
   ]
  },
  {
   "cell_type": "code",
   "execution_count": 2,
   "id": "f12c7570",
   "metadata": {},
   "outputs": [],
   "source": [
    "# Creación de la carpeta instancias\n",
    "\n",
    "def crear_carpeta(dir):\n",
    "    if os.path.exists(dir) : shutil.rmtree(dir)\n",
    "    os.makedirs(dir)"
   ]
  },
  {
   "cell_type": "code",
   "execution_count": 3,
   "id": "2b3fe8b4",
   "metadata": {},
   "outputs": [],
   "source": [
    "# Guardado de la instancia\n",
    "\n",
    "def save_instance(dataset, instance_name, r_i, r_e, m_p_1, n, iso, t_i, t_e, ninst):\n",
    "    with open(F\"instancias/{dataset}/{instance_name}.in\", \"w\") as f:\n",
    "        print(r_i, r_e, m_p_1, n, iso, ninst, file=f)\n",
    "        for i in range(0, ninst): \n",
    "            for j in range(0, n):\n",
    "                print(t_i[i][j], end=\" \", file=f)\n",
    "            for j in range(0, n):\n",
    "                print(t_e[i][j], end=\" \", file=f)\n",
    "            print(end = \"\\n\", file=f)"
   ]
  },
  {
   "cell_type": "markdown",
   "id": "5da1d0cf",
   "metadata": {},
   "source": [
    "## Dataset 1 : Pared exterior de alta temperatura\n",
    "\n",
    "- Este primer dataset contempla una discretización del horno con temperaturas fijas $T_i = 1500~$ y $~T_e = 200$.\n",
    "- $n = 40$\n",
    "- $m \\in \\{x~:~x = i\\cdot 2, ~ i = 1\\ldots20 \\land x \\geq 4\\}$\n",
    "- $ninst = 1$, con todas las instancias que surgen de los pares $(m,n)$\n",
    "- La isoterma buscada será 500\n",
    "- $r_i = 10$\n",
    "- $r_e = 15$"
   ]
  },
  {
   "cell_type": "code",
   "execution_count": 5,
   "id": "96c3f9aa",
   "metadata": {},
   "outputs": [],
   "source": [
    "crear_carpeta('instancias/D1')\n",
    "\n",
    "index_filas = []\n",
    "T_i = 1500\n",
    "T_e = 200\n",
    "r_i = 10\n",
    "r_e = 15\n",
    "iso = 500\n",
    "ninst = 1\n",
    "n = 40\n",
    "m = 40\n",
    "\n",
    "for j in range(4,m+1,2):\n",
    "    t_i = [[T_i for i in range(n)]]\n",
    "    t_e = [[T_e for i in range(n)]]\n",
    "    save_instance(\"D1\", F\"D1_{j}_{n}\", r_i, r_e, j, n, iso, t_i, t_e, ninst)\n",
    "    index_filas.append([\"D1\", F\"D1_{j}_{n}\", r_i, r_e, j, n, iso, ninst,F\"instancias/D1/D1_{j}_{n}.in\"])\n",
    "\n",
    "pd.DataFrame(index_filas, columns=[\"Dataset\", \"Nombre de instancia\", \"Radio interno\", \"Radio externo\", \"m+1\", \"n\", \"Isoterma\", \"Número de instancia\", \"Archivo\"]).to_csv(\"instancias/D1/indice.csv\", index=False, header=True, sep=',')"
   ]
  },
  {
   "cell_type": "markdown",
   "id": "fa0e29bc",
   "metadata": {},
   "source": [
    "## Dataset 2 : Temperaturas que cambian con el tiempo\n",
    "\n",
    "- Este segundo dataset contempla una discretización del horno con temperaturas que varían en el tiempo, siendo estos cambios representados instancia a instancia con una cantidad de ángulos y radios fija. Los cambios de temperatura repetarán una distribución normal, intentando simular el posible error de medición de un sensor en el horno, con $\\sigma = \\frac{\\mu}{50}$.\n",
    "- $n = 40$\n",
    "- $m = 30$\n",
    "- $ninst = 30$\n",
    "- La isoterma buscada será 500\n",
    "- $r_i = 15$\n",
    "- $r_e = 5$\n",
    "- $T_i \\sim N(1500, 30)$\n",
    "- $T_e \\sim N(200, 4)$"
   ]
  },
  {
   "cell_type": "code",
   "execution_count": 6,
   "id": "b3c58f17",
   "metadata": {},
   "outputs": [],
   "source": [
    "crear_carpeta('instancias/D2')\n",
    "\n",
    "index_filas = []\n",
    "n = 40\n",
    "m = 30\n",
    "r_i = 10\n",
    "r_e = 15\n",
    "iso = 500\n",
    "ninst = 30\n",
    "T_i = 1500\n",
    "T_e = 200\n",
    "t_i = []\n",
    "t_e = []\n",
    "\n",
    "for h in range(ninst):\n",
    "    t_i.append([random.normalvariate(T_i, T_i//50) for i in range(n)])\n",
    "    t_e.append([random.normalvariate(T_e, T_e//50) for i in range(n)])\n",
    "    index_filas.append([\"D2\", F\"D2_{m}_{n}\", r_i, r_e, m, n, iso, h+1,F\"instancias/D2/D2_{m}_{n}.in\"])\n",
    "    \n",
    "save_instance(\"D2\", F\"D2_{m}_{n}\",r_i,r_e,m,n,iso,t_i,t_e,ninst)\n",
    "pd.DataFrame(index_filas, columns=[\"Dataset\", \"Nombre de instancia\", \"Radio interno\", \"Radio externo\", \"m+1\", \"n\", \"Isoterma\", \"Número de instancia\", \"Archivo\"]).to_csv(\"instancias/D2/indice.csv\", index=False, header=True, sep=',')"
   ]
  },
  {
   "cell_type": "markdown",
   "id": "c7bc49ea",
   "metadata": {},
   "source": [
    "## Dataset 3 : Horno con sistema de refrigeración no funcional\n",
    "\n",
    "- Este tercer dataset contempla una discretización del horno parecida al dataset previo, con temperaturas fijas $T_i = 50~$ y $~T_e = 1500$. La distinción está en que itnenta simular uno de los potenciales escenarios de peligro al momento de utilizar un horno de esta indole, donde parte del sistema de refrigeración del mismo no funciona como corresponde, permitiendo que determina sección del horno comience a recalentarse.\n",
    "- $n = 40$\n",
    "- $m = 30$\n",
    "- $ninst = 50$\n",
    "- La isoterma buscada será 500.\n",
    "- $r_i = 15$\n",
    "- $r_e = 5$\n",
    "- $T_i = 1500$\n",
    "- $T_e = 200$\n",
    "- $k = 10$, este $k$ es el incremento de temperatura que sufre la mitad del horno en cada instancia."
   ]
  },
  {
   "cell_type": "code",
   "execution_count": 7,
   "id": "8e478ef7",
   "metadata": {},
   "outputs": [],
   "source": [
    "crear_carpeta('instancias/D3')\n",
    "\n",
    "index_filas = []\n",
    "n = 40\n",
    "m = 30\n",
    "r_i = 10\n",
    "r_e = 15\n",
    "iso = 500\n",
    "ninst = 50\n",
    "T_i = 1500\n",
    "T_e = 200\n",
    "t_i = []\n",
    "t_e = []\n",
    "\n",
    "for h in range(ninst):\n",
    "    t_i.append([T_i for i in range(n//2)] + [T_i + 10*h for i in range(n//2)])\n",
    "    t_e.append([T_e for i in range(n//2)] + [T_e + 10*h for i in range(n//2)])\n",
    "    index_filas.append([\"D3\", F\"D3_{m}_{n}\", r_i, r_e, m, n, iso, h,F\"instancias/D3/D3_{m}_{n}.in\"])\n",
    "    \n",
    "save_instance(\"D3\", F\"D3_{m}_{n}\",r_i,r_e,m,n,iso,t_i,t_e,ninst)\n",
    "pd.DataFrame(index_filas, columns=[\"Dataset\", \"Nombre de instancia\", \"Radio interno\", \"Radio externo\", \"m+1\", \"n\", \"Isoterma\", \"Número de instancia\", \"Archivo\"]).to_csv(\"instancias/D3/indice.csv\", index=False, header=True, sep=',')"
   ]
  },
  {
   "cell_type": "markdown",
   "id": "43250c6f-3499-4852-b597-4e8ef0c0f039",
   "metadata": {},
   "source": [
    "## Dataset 4 : Horno con sensores fallados\n",
    "\n",
    "- Este tercer dataset contempla una discretización del horno parecida al dataset previo, con temperaturas fijas $T_i = 50~$ y $~T_e = 1500$. En este dataset habrá sensores que no están configurados de forma adecuada y miden mal la temperatura a través del tiempo. Los cambios de temperatura repetarán una distribución normal, intentando simular el posible error de medición de un sensor en el horno, con $\\sigma = \\frac{\\mu}{50}$, mientras que los sensores defectuosos con $\\sigma = \\frac{\\mu}{5}$.\n",
    "- $n = 40$\n",
    "- $m = 30$\n",
    "- $ninst = 50$\n",
    "- La isoterma buscada será 1000.\n",
    "- $r_i = 15$\n",
    "- $r_e = 5$\n",
    "- $T_i \\sim N(1500, 30)$\n",
    "- $T_e \\sim N(500, 4)$"
   ]
  },
  {
   "cell_type": "code",
   "execution_count": 8,
   "id": "e19be7f9-ff8f-4369-a059-8dc5adba4271",
   "metadata": {},
   "outputs": [],
   "source": [
    "crear_carpeta('instancias/D4')\n",
    "\n",
    "index_filas = []\n",
    "n = 40\n",
    "m = 30\n",
    "r_i = 10\n",
    "r_e = 15\n",
    "iso = 1000\n",
    "ninst = 30\n",
    "T_i = 1500\n",
    "T_e = 500\n",
    "t_i = []\n",
    "t_e = []\n",
    "s_defectuosos =  [random.randint(1,n-1) for i in range(5)]\n",
    "\n",
    "for h in range(ninst):\n",
    "    t_i.append([random.normalvariate(T_i, T_i//50) for i in range(n)])\n",
    "    t_e.append([random.normalvariate(T_e, T_e//50) for i in range(n)])\n",
    "    for j in s_defectuosos:\n",
    "        t_e[h][j] = random.normalvariate(T_e, T_e//5)\n",
    "    index_filas.append([\"D4\", F\"D4_{m}_{n}\", r_i, r_e, m, n, iso, h+1,F\"instancias/D4/D4_{m}_{n}.in\"])\n",
    "    \n",
    "save_instance(\"D4\", F\"D4_{m}_{n}\",r_i,r_e,m,n,iso,t_i,t_e,ninst)\n",
    "pd.DataFrame(index_filas, columns=[\"Dataset\", \"Nombre de instancia\", \"Radio interno\", \"Radio externo\", \"m+1\", \"n\", \"Isoterma\", \"Número de instancia\", \"Archivo\"]).to_csv(\"instancias/D4/indice.csv\", index=False, header=True, sep=',')"
   ]
  },
  {
   "cell_type": "code",
   "execution_count": null,
   "id": "39679f50-6ebd-4ea7-aeea-92df8bf8037d",
   "metadata": {},
   "outputs": [],
   "source": []
  }
 ],
 "metadata": {
  "kernelspec": {
   "display_name": "Python 3 (ipykernel)",
   "language": "python",
   "name": "python3"
  },
  "language_info": {
   "codemirror_mode": {
    "name": "ipython",
    "version": 3
   },
   "file_extension": ".py",
   "mimetype": "text/x-python",
   "name": "python",
   "nbconvert_exporter": "python",
   "pygments_lexer": "ipython3",
   "version": "3.8.10"
  }
 },
 "nbformat": 4,
 "nbformat_minor": 5
}
